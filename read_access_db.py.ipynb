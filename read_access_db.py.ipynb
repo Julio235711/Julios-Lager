{
 "cells": [
  {
   "cell_type": "code",
   "execution_count": null,
   "id": "2ad417aa",
   "metadata": {},
   "outputs": [],
   "source": [
    "\n",
    "import pyodbc\n",
    "pyodbc.dataSources()\n",
    "[x for x in pyodbc.drivers() if x.startswith( 'Microsoft Access Driver (*.mdb, *.accdb)')]\n",
    "\n"
   ]
  },
  {
   "cell_type": "code",
   "execution_count": null,
   "id": "01ca9286",
   "metadata": {
    "scrolled": false
   },
   "outputs": [],
   "source": [
    "try:\n",
    "    \n",
    "    con_string = r'DRIVER={Microsoft Access Driver (*.mdb, *.accdb)};DBQ=C:\\Users\\igmel\\Documents\\Familia Mella GG\\Computadora Aachen Vieja\\JULIO\\Personal\\HSDChefMarketlist.accdb;'  \n",
    "    conn=pyodbc.connect(con_string)\n",
    "    print(\"Connected to Database\")\n",
    "    \n",
    "except pyodbc.Error as e:\n",
    "    print(\"Error in Connection\", e)\n",
    "    "
   ]
  },
  {
   "cell_type": "code",
   "execution_count": null,
   "id": "e21a29c8",
   "metadata": {
    "scrolled": true
   },
   "outputs": [],
   "source": [
    "cur=conn.cursor()\n",
    "cur.execute('SELECT * FROM [A&BMarketList]')\n",
    "for row in cur.fetchall():\n",
    "    print(row)\n",
    "  \n",
    "cur.close()\n",
    "conn.close()\n",
    "print(\"Desconnected to Database\")"
   ]
  },
  {
   "cell_type": "code",
   "execution_count": null,
   "id": "e7d0fb21",
   "metadata": {},
   "outputs": [],
   "source": []
  }
 ],
 "metadata": {
  "kernelspec": {
   "display_name": "Python 3 (ipykernel)",
   "language": "python",
   "name": "python3"
  },
  "language_info": {
   "codemirror_mode": {
    "name": "ipython",
    "version": 3
   },
   "file_extension": ".py",
   "mimetype": "text/x-python",
   "name": "python",
   "nbconvert_exporter": "python",
   "pygments_lexer": "ipython3",
   "version": "3.11.5"
  }
 },
 "nbformat": 4,
 "nbformat_minor": 5
}
